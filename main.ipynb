{
 "cells": [
  {
   "cell_type": "code",
   "execution_count": 25,
   "metadata": {},
   "outputs": [],
   "source": [
    "import time\n",
    "import pandas as pd\n",
    "import re\n",
    "import requests\n",
    "from bs4 import BeautifulSoup\n",
    "from selenium import webdriver\n",
    "from selenium.common.exceptions import TimeoutException, NoSuchElementException\n",
    "from selenium.webdriver.common.keys import Keys\n",
    "from selenium.webdriver.common.by import By\n",
    "from selenium.webdriver.support.ui import WebDriverWait\n",
    "from selenium.webdriver.support import expected_conditions as EC"
   ]
  },
  {
   "cell_type": "code",
   "execution_count": 60,
   "metadata": {},
   "outputs": [],
   "source": [
    "url = \" https://food.grab.com/sg/en\"\n",
    "\n",
    "chrome_options = webdriver.ChromeOptions()\n",
    "user_agent = \"Mozilla/5.0 (Windows NT 10.0; Win64; x64) AppleWebKit/537.36 (KHTML, like Gecko) Chrome/64.0.3282.140 Safari/537.36 Edge/17.17134\"\n",
    "chrome_options.add_argument(f'user-agent={user_agent}')\n",
    "chrome_options.add_argument(\"--incognito\")\n",
    "chrome_options.add_argument(\"--disable-blink-features=AutomationControlled\")\n",
    "\n",
    "driver = webdriver.Chrome(options=chrome_options)\n",
    "driver.get(url)"
   ]
  },
  {
   "cell_type": "code",
   "execution_count": 61,
   "metadata": {},
   "outputs": [],
   "source": [
    "try:\n",
    "    WebDriverWait(driver, 10).until(EC.element_to_be_clickable((By.XPATH, '//button[contains(text(), \"Accept\")]'))).click()\n",
    "except TimeoutException:\n",
    "    pass"
   ]
  },
  {
   "cell_type": "code",
   "execution_count": 62,
   "metadata": {},
   "outputs": [],
   "source": [
    "WebDriverWait(driver, 20).until(EC.presence_of_element_located((By.CSS_SELECTOR, \".ant-layout\")))\n",
    "\n",
    "location_input = driver.find_element(By.ID, 'location-input')\n",
    "location_input.click()\n",
    "time.sleep(2)\n",
    "location_input.clear()\n",
    "\n",
    "location_input.send_keys(\"PT Singapore - Choa Chu Kang North 6, Singapore, 689577\")\n",
    "\n",
    "WebDriverWait(driver, 10).until(EC.presence_of_element_located((By.CSS_SELECTOR, \".ant-btn.submitBtn___2roqB.ant-btn-primary\")))\n",
    "\n",
    "submit_button = driver.find_element(By.CSS_SELECTOR, '.ant-btn.submitBtn___2roqB.ant-btn-primary')\n",
    "submit_button.click()"
   ]
  },
  {
   "cell_type": "code",
   "execution_count": 63,
   "metadata": {},
   "outputs": [],
   "source": [
    "WebDriverWait(driver, 15).until(EC.presence_of_element_located((By.CSS_SELECTOR, \".ant-layout\")))\n",
    "\n",
    "last_height = driver.execute_script(\"return document.body.scrollHeight\")\n",
    "t=0\n",
    "while True:\n",
    "    driver.execute_script(\"window.scrollTo(0, document.body.scrollHeight);\")\n",
    "    time.sleep(2)\n",
    "    \n",
    "    new_height = driver.execute_script(\"return document.body.scrollHeight\")\n",
    "    if new_height == last_height:\n",
    "        break\n",
    "    last_height = new_height"
   ]
  },
  {
   "cell_type": "code",
   "execution_count": 64,
   "metadata": {},
   "outputs": [
    {
     "data": {
      "text/plain": [
       "<selenium.webdriver.remote.webelement.WebElement (session=\"36e820bce805ad22d964a0207b933e19\", element=\"f.E4C10AA3F938651C2069DA61A1BC9AEB.d.F3AFA23B413A5A215814F24329C95E8F.e.79\")>"
      ]
     },
     "execution_count": 64,
     "metadata": {},
     "output_type": "execute_result"
    }
   ],
   "source": [
    "WebDriverWait(driver, 20).until(EC.presence_of_element_located((By.CLASS_NAME, \"RestaurantListRow___1SbZY\")))\n",
    "layout_div = driver.find_element(By.CLASS_NAME, 'RestaurantListRow___1SbZY')\n",
    "\n",
    "WebDriverWait(driver, 15).until(EC.presence_of_element_located((By.CLASS_NAME, \"name___2epcT\")))"
   ]
  },
  {
   "cell_type": "code",
   "execution_count": 65,
   "metadata": {},
   "outputs": [],
   "source": [
    "ratings = layout_div.find_elements(By.CLASS_NAME, 'numbers___2xZGn')\n",
    "\n",
    "soup = BeautifulSoup(driver.page_source , 'html.parser')"
   ]
  },
  {
   "cell_type": "code",
   "execution_count": 66,
   "metadata": {},
   "outputs": [],
   "source": [
    "details = soup.find_all('div', class_='ant-row-flex ant-row-flex-start ant-row-flex-top asList___1ZNTr')"
   ]
  },
  {
   "cell_type": "code",
   "execution_count": 67,
   "metadata": {},
   "outputs": [],
   "source": [
    "import pandas as pd\n",
    "\n",
    "# Initialize empty lists to store extracted details\n",
    "restaurant_names = []\n",
    "restaurant_cuisines = []\n",
    "ratings = []\n",
    "direction = []\n",
    "delivery_times = []\n",
    "distances = []\n",
    "discount= []\n",
    "images = []\n",
    "promo = []\n",
    "\n",
    "# Loop through each div element\n",
    "for div in details:\n",
    "    # Extract restaurant name\n",
    "    restaurant_name = div.find('p', class_='name___2epcT').text.strip()\n",
    "    restaurant_names.append(restaurant_name)\n",
    "    \n",
    "    # Extract restaurant cuisine\n",
    "    cuisine_div = div.find('div', class_='cuisine___T2tCh')\n",
    "    cuisines = cuisine_div.text.strip() if cuisine_div else None\n",
    "    \n",
    "    restaurant_cuisines.append(cuisines)\n",
    "    \n",
    "    rating_div = div.find('div', class_='numbersChild___2qKMV')\n",
    "    if rating_div.find('div', class_='ratingStar'):\n",
    "        ratings.append(rating_div.text)\n",
    "    else:\n",
    "        ratings.append(None)\n",
    "\n",
    "    directions = div.find_all('div', class_=\"numbersChild___2qKMV\")\n",
    "    for direction_div in directions:\n",
    "        if direction_div.find('div', class_=\"deliveryClock\"):\n",
    "            direction.append(direction_div.text)\n",
    "    \n",
    "    discount_div = div.find('div', class_=\"colInfo___3iLqj\").find('div', class_=\"discount___3h-0m\")\n",
    "    if discount_div: \n",
    "        discount.append(discount_div.text)\n",
    "    else:\n",
    "        discount.append(None)\n",
    "    \n",
    "    image = div.find('img', class_=\"realImage___2TyNE\")\n",
    "    images.append(image.get('src'))\n",
    "    \n",
    "    if div.find('div', class_=\"promoTagHead___1bjRG\"):\n",
    "        promo.append(True)\n",
    "    else:\n",
    "        promo.append(False)\n",
    "        \n",
    "    \n",
    "for x in direction:\n",
    "        delivery_time, distance  = x.split('•')\n",
    "        delivery_times.append(delivery_time[:7])\n",
    "        distances.append(distance[-6:])\n",
    "        \n",
    "df = pd.DataFrame({\n",
    "    'Restaurant Name': restaurant_names,\n",
    "    'Restaurant Cuisine': restaurant_cuisines,\n",
    "    'Restaurant Rating': ratings,\n",
    "    'Restaurant Delivery Time': delivery_times,\n",
    "    'Restaurant Distance': distances,\n",
    "    'Discount' : discount,\n",
    "    'Promo' : promo,\n",
    "    'Images' : images\n",
    "})"
   ]
  },
  {
   "cell_type": "code",
   "execution_count": 95,
   "metadata": {},
   "outputs": [
    {
     "name": "stdout",
     "output_type": "stream",
     "text": [
      "Total Count of Records: 277\n",
      "Null/Non-null Statistics:\n",
      "Column: Unnamed: 0, Null: 0, Non-null: 277\n",
      "Column: Restaurant Name, Null: 0, Non-null: 277\n",
      "Column: Restaurant Cuisine, Null: 0, Non-null: 277\n",
      "Column: Restaurant Rating, Null: 42, Non-null: 235\n",
      "Column: Restaurant Delivery Time, Null: 0, Non-null: 277\n",
      "Column: Restaurant Distance, Null: 0, Non-null: 277\n",
      "Column: Discount, Null: 248, Non-null: 29\n",
      "Column: Promo, Null: 0, Non-null: 277\n",
      "Column: Images, Null: 0, Non-null: 277\n"
     ]
    }
   ],
   "source": [
    "import pandas as pd\n",
    "\n",
    "# Read the CSV file into a DataFrame\n",
    "data = pd.read_csv('data.csv')\n",
    "\n",
    "# Total count of records\n",
    "total_count = len(data)\n",
    "\n",
    "# Null/Non-null statistics\n",
    "null_non_null_stats = {}\n",
    "for column in data.columns:\n",
    "    null_count = data[column].isnull().sum()\n",
    "    non_null_count = data[column].notnull().sum()\n",
    "    null_non_null_stats[column] = {'null': null_count, 'non_null': non_null_count}\n",
    "\n",
    "# Print total count\n",
    "print(f\"Total Count of Records: {total_count}\")\n",
    "\n",
    "# Print null/non-null statistics\n",
    "print(\"Null/Non-null Statistics:\")\n",
    "for column, stats in null_non_null_stats.items():\n",
    "    print(f\"Column: {column}, Null: {stats['null']}, Non-null: {stats['non_null']}\")"
   ]
  },
  {
   "cell_type": "code",
   "execution_count": null,
   "metadata": {},
   "outputs": [],
   "source": []
  }
 ],
 "metadata": {
  "kernelspec": {
   "display_name": "Python 3",
   "language": "python",
   "name": "python3"
  },
  "language_info": {
   "codemirror_mode": {
    "name": "ipython",
    "version": 3
   },
   "file_extension": ".py",
   "mimetype": "text/x-python",
   "name": "python",
   "nbconvert_exporter": "python",
   "pygments_lexer": "ipython3",
   "version": "3.11.0"
  }
 },
 "nbformat": 4,
 "nbformat_minor": 2
}
